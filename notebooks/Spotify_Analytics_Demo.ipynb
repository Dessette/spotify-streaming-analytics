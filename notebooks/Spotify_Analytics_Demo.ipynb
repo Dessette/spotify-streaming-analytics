{
 "cells": [
  {
   "cell_type": "markdown",
   "metadata": {},
   "source": [
    "# Spotify Analytics Demo\n",
    "## PySpark + Kafka + PostgreSQL Integration"
   ]
  },
  {
   "cell_type": "code",
   "execution_count": null,
   "metadata": {},
   "outputs": [],
   "source": [
    "# Initialize Spark Session\n",
    "from pyspark.sql import SparkSession\n",
    "from pyspark.sql.functions import *\n",
    "\n",
    "spark = SparkSession.builder \\\n",
    "    .appName(\"SpotifyAnalyticsDemo\") \\\n",
    "    .config(\"spark.sql.adaptive.enabled\", \"true\") \\\n",
    "    .getOrCreate()\n",
    "\n",
    "print(f\"Spark Version: {spark.version}\")"
   ]
  },
  {
   "cell_type": "code",
   "execution_count": null,
   "metadata": {},
   "outputs": [],
   "source": [
    "# Load sample data\n",
    "data = [\n",
    "    (\"Shape of You\", \"Ed Sheeran\", \"pop\", 2017, 95),\n",
    "    (\"Bohemian Rhapsody\", \"Queen\", \"rock\", 1975, 88),\n",
    "    (\"Billie Jean\", \"Michael Jackson\", \"pop\", 1983, 92)\n",
    "]\n",
    "\n",
    "df = spark.createDataFrame(data, [\"title\", \"artist\", \"genre\", \"year\", \"popularity\"])\n",
    "df.show()"
   ]
  }
 ],
 "metadata": {
  "kernelspec": {
   "display_name": "Python 3",
   "language": "python",
   "name": "python3"
  }
 },
 "nbformat": 4,
 "nbformat_minor": 4
}
